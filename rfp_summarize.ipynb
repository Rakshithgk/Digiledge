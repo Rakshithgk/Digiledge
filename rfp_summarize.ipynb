{
  "nbformat": 4,
  "nbformat_minor": 0,
  "metadata": {
    "colab": {
      "name": "rfp_summarize.ipynb",
      "provenance": [],
      "collapsed_sections": [],
      "machine_shape": "hm",
      "authorship_tag": "ABX9TyN0ugGEXFXWrRkRMUaVhGEs"
    },
    "kernelspec": {
      "name": "python3",
      "display_name": "Python 3"
    }
  },
  "cells": [
    {
      "cell_type": "markdown",
      "metadata": {
        "id": "IT6w2wzLgX5Q",
        "colab_type": "text"
      },
      "source": [
        "## **Tender_uco_rfp_general_02_19_20_9f84e770f3**"
      ]
    },
    {
      "cell_type": "code",
      "metadata": {
        "id": "qEvFSXkYczjr",
        "colab_type": "code",
        "colab": {}
      },
      "source": [
        "from google.colab import files\n",
        "uploaded = files.upload()"
      ],
      "execution_count": 0,
      "outputs": []
    },
    {
      "cell_type": "code",
      "metadata": {
        "id": "2PEw9Lb9ewon",
        "colab_type": "code",
        "colab": {
          "base_uri": "https://localhost:8080/",
          "height": 34
        },
        "outputId": "0ce7659a-dded-4b43-d585-b63cac3c92ea"
      },
      "source": [
        "!pip install PyPDF2"
      ],
      "execution_count": 2,
      "outputs": [
        {
          "output_type": "stream",
          "text": [
            "Requirement already satisfied: PyPDF2 in /usr/local/lib/python3.6/dist-packages (1.26.0)\n"
          ],
          "name": "stdout"
        }
      ]
    },
    {
      "cell_type": "code",
      "metadata": {
        "id": "KtqN212Nd7Qp",
        "colab_type": "code",
        "colab": {
          "base_uri": "https://localhost:8080/",
          "height": 34
        },
        "outputId": "0171e257-2992-45bb-88c8-6ff63d3748dd"
      },
      "source": [
        "import PyPDF2 as pdf\n",
        "file1= open('Tender_uco_rfp_general_02_19_20_9f84e770f3.pdf', 'rb')\n",
        "pdfreader= pdf.PdfFileReader(file1)\n",
        "pdfreader.getNumPages()"
      ],
      "execution_count": 3,
      "outputs": [
        {
          "output_type": "execute_result",
          "data": {
            "text/plain": [
              "37"
            ]
          },
          "metadata": {
            "tags": []
          },
          "execution_count": 3
        }
      ]
    },
    {
      "cell_type": "code",
      "metadata": {
        "id": "oSDXThhRd7ML",
        "colab_type": "code",
        "colab": {}
      },
      "source": [
        "tend= ''\n",
        "for i in range(1, 37):\n",
        "    page= pdfreader.getPage(i)\n",
        "    \n",
        "    page= page.extractText()\n",
        "    \n",
        "    page= page.lower()\n",
        "    tend+= page"
      ],
      "execution_count": 0,
      "outputs": []
    },
    {
      "cell_type": "code",
      "metadata": {
        "id": "sk1phe9Jd7Js",
        "colab_type": "code",
        "colab": {}
      },
      "source": [
        "from gensim.summarization.summarizer import summarize \n",
        "from gensim.summarization import keywords"
      ],
      "execution_count": 0,
      "outputs": []
    },
    {
      "cell_type": "code",
      "metadata": {
        "id": "XPGlp8zsd7Hx",
        "colab_type": "code",
        "colab": {
          "base_uri": "https://localhost:8080/",
          "height": 158
        },
        "outputId": "0ecd6082-6667-4bed-871d-26c4a15ee6e3"
      },
      "source": [
        "summ_tend = summarize(tend, word_count= 100) \n",
        "print(\"summary:      \", summ_tend)"
      ],
      "execution_count": 6,
      "outputs": [
        {
          "output_type": "stream",
          "text": [
            "summary:       any obligation to inform the affected bidder(s) of the grounds for bank's action.\n",
            "bank shall be within its rights to stipulate such terms and conditions as it may deem fit, including \n",
            "and providing any additional information required by the bank, shall be borne \n",
            "insurance company and bank shall be for a minimum \n",
            "elected bidder shall agree to hold bank, its successors, \n",
            "information or document provided by bank as part of business relationship, regarding plans, \n",
            "bank is entitled to disqualify bidder(s) from rfp process or take action as per procedure \n",
            "as soon as integrity pact is signed, the bank shall provide a copy thereof,\n"
          ],
          "name": "stdout"
        }
      ]
    },
    {
      "cell_type": "code",
      "metadata": {
        "id": "HwFIDjJxoJIT",
        "colab_type": "code",
        "colab": {}
      },
      "source": [
        ""
      ],
      "execution_count": 0,
      "outputs": []
    },
    {
      "cell_type": "markdown",
      "metadata": {
        "id": "BWnmkOtPg-1h",
        "colab_type": "text"
      },
      "source": [
        "## **RFP-Corporate-Agency-Arrangement-for-Standalone-Health-Insurance-Business**"
      ]
    },
    {
      "cell_type": "code",
      "metadata": {
        "colab_type": "code",
        "outputId": "22a37108-f516-4b17-f539-f7c0b0410870",
        "id": "GAeIav-xhzXm",
        "colab": {
          "base_uri": "https://localhost:8080/",
          "height": 34
        }
      },
      "source": [
        "import PyPDF2 as pdf\n",
        "file2= open('RFP-Corporate-Agency-Arrangement-for-Standalone-Health-Insurance-Business.pdf', 'rb')\n",
        "pdfreader= pdf.PdfFileReader(file2)\n",
        "pdfreader.getNumPages()"
      ],
      "execution_count": 7,
      "outputs": [
        {
          "output_type": "execute_result",
          "data": {
            "text/plain": [
              "235"
            ]
          },
          "metadata": {
            "tags": []
          },
          "execution_count": 7
        }
      ]
    },
    {
      "cell_type": "code",
      "metadata": {
        "colab_type": "code",
        "id": "1WyWJVqGhzXs",
        "colab": {}
      },
      "source": [
        "RFP= ''\n",
        "for i in range(1, 234):\n",
        "    page= pdfreader.getPage(i)\n",
        "    \n",
        "    page= page.extractText()\n",
        "    \n",
        "    page= page.lower()\n",
        "    RFP+= page"
      ],
      "execution_count": 0,
      "outputs": []
    },
    {
      "cell_type": "code",
      "metadata": {
        "colab_type": "code",
        "outputId": "6508c441-2ab9-4ae6-9e68-16b338758e44",
        "id": "d339_EP1hzX2",
        "colab": {
          "base_uri": "https://localhost:8080/",
          "height": 158
        }
      },
      "source": [
        "summ_per = summarize(RFP, word_count= 100) \n",
        "print(\"summary2:      \", summ_per)"
      ],
      "execution_count": 9,
      "outputs": [
        {
          "output_type": "stream",
          "text": [
            "summary2:       the bidder shall provide / customise the services / products to the corporate agent to meet \n",
            "corporate agent for general insurance  shall be evaluated as per the below criteria \n",
            "this rfp and contracts / agreements to be entered with successful bidders shall be \n",
            "of the corporate agent authorized to sell and market general insurance products/health \n",
            "subject to applicable law, the company shall pay the corporate agent commission \n",
            "the corporate agent shall at all times during the term of this agreement, ensure that the \n",
            "the corporate agent shall submit applications for general insurance products / health \n",
            "the corporate agent shall provide timely assistance and support to the company in \n"
          ],
          "name": "stdout"
        }
      ]
    },
    {
      "cell_type": "code",
      "metadata": {
        "id": "F16pNYdWd7D_",
        "colab_type": "code",
        "colab": {}
      },
      "source": [
        ""
      ],
      "execution_count": 0,
      "outputs": []
    },
    {
      "cell_type": "markdown",
      "metadata": {
        "id": "KgFIX_69jVMn",
        "colab_type": "text"
      },
      "source": [
        "# **RFP-1**"
      ]
    },
    {
      "cell_type": "code",
      "metadata": {
        "colab_type": "code",
        "outputId": "49295e14-bdb0-43e9-97e4-50b39ab2d3cc",
        "id": "DgceMKEpjIwQ",
        "colab": {
          "base_uri": "https://localhost:8080/",
          "height": 34
        }
      },
      "source": [
        "file3= open('RFP-1.pdf', 'rb')\n",
        "pdfreader= pdf.PdfFileReader(file3)\n",
        "pdfreader.getNumPages()"
      ],
      "execution_count": 11,
      "outputs": [
        {
          "output_type": "execute_result",
          "data": {
            "text/plain": [
              "37"
            ]
          },
          "metadata": {
            "tags": []
          },
          "execution_count": 11
        }
      ]
    },
    {
      "cell_type": "code",
      "metadata": {
        "colab_type": "code",
        "id": "6FV4VAD0jIwd",
        "colab": {}
      },
      "source": [
        "RFP1= ''\n",
        "for i in range(0, 36):\n",
        "    page= pdfreader.getPage(i)\n",
        "    \n",
        "    page= page.extractText()\n",
        "    \n",
        "    page= page.lower()\n",
        "    RFP1+= page"
      ],
      "execution_count": 0,
      "outputs": []
    },
    {
      "cell_type": "code",
      "metadata": {
        "colab_type": "code",
        "outputId": "6e47c828-f278-4484-8cb7-eee0cb1b4465",
        "id": "wMYZGGx0jIwi",
        "colab": {
          "base_uri": "https://localhost:8080/",
          "height": 176
        }
      },
      "source": [
        "summ_per = summarize(RFP1, word_count= 100) \n",
        "print(\"summary3:      \", summ_per)"
      ],
      "execution_count": 14,
      "outputs": [
        {
          "output_type": "stream",
          "text": [
            "summary3:       of india post payments bank (ippb)\n",
            "the bank has authorized marsh india insurance brokers pvt.\n",
            "placement, placement and post placement services of insurance policies and other related \n",
            ". bank in consultation with marsh is in process of selecting insurance company \n",
            "bank is looking to take following insurance policies to cover its various risks \n",
            "insurance policies required by the bank\n",
            "bidders are required to submit soft copies of their bids electronically on the cpp \n",
            "the bidder shall submit the commercial bid as per the format given in \n",
            "bidder is responsible for all costs, expenses or liabilities incurred by \n"
          ],
          "name": "stdout"
        }
      ]
    },
    {
      "cell_type": "code",
      "metadata": {
        "id": "EmE3Dn-ljL5c",
        "colab_type": "code",
        "colab": {}
      },
      "source": [
        ""
      ],
      "execution_count": 0,
      "outputs": []
    },
    {
      "cell_type": "markdown",
      "metadata": {
        "id": "uQBs8E6JjlUW",
        "colab_type": "text"
      },
      "source": [
        "# **rfp_for_general_insurance**"
      ]
    },
    {
      "cell_type": "code",
      "metadata": {
        "colab_type": "code",
        "outputId": "a4e868d5-cbcd-4009-8634-e71fbd3f7f74",
        "id": "_9DSHGndjMip",
        "colab": {
          "base_uri": "https://localhost:8080/",
          "height": 34
        }
      },
      "source": [
        "import PyPDF2 as pdf\n",
        "file4= open('rfp_for_general_insurance (1).pdf', 'rb')\n",
        "pdfreader= pdf.PdfFileReader(file4)\n",
        "pdfreader.getNumPages()"
      ],
      "execution_count": 17,
      "outputs": [
        {
          "output_type": "execute_result",
          "data": {
            "text/plain": [
              "29"
            ]
          },
          "metadata": {
            "tags": []
          },
          "execution_count": 17
        }
      ]
    },
    {
      "cell_type": "code",
      "metadata": {
        "colab_type": "code",
        "id": "iShnv6E_jMiw",
        "colab": {}
      },
      "source": [
        "RFP2= ''\n",
        "for i in range(0, 28):\n",
        "    page= pdfreader.getPage(i)\n",
        "    \n",
        "    page= page.extractText()\n",
        "    \n",
        "    page= page.lower()\n",
        "    RFP2+= page"
      ],
      "execution_count": 0,
      "outputs": []
    },
    {
      "cell_type": "code",
      "metadata": {
        "colab_type": "code",
        "outputId": "cbc38881-9da1-47b6-fec4-13849e30ae1e",
        "id": "IdwjMON-jMi1",
        "colab": {
          "base_uri": "https://localhost:8080/",
          "height": 158
        }
      },
      "source": [
        "summ_per = summarize(RFP, word_count= 100) \n",
        "print(\"summary4:      \", summ_per)"
      ],
      "execution_count": 19,
      "outputs": [
        {
          "output_type": "stream",
          "text": [
            "summary4:       the bidder shall provide / customise the services / products to the corporate agent to meet \n",
            "corporate agent for general insurance  shall be evaluated as per the below criteria \n",
            "this rfp and contracts / agreements to be entered with successful bidders shall be \n",
            "of the corporate agent authorized to sell and market general insurance products/health \n",
            "subject to applicable law, the company shall pay the corporate agent commission \n",
            "the corporate agent shall at all times during the term of this agreement, ensure that the \n",
            "the corporate agent shall submit applications for general insurance products / health \n",
            "the corporate agent shall provide timely assistance and support to the company in \n"
          ],
          "name": "stdout"
        }
      ]
    }
  ]
}